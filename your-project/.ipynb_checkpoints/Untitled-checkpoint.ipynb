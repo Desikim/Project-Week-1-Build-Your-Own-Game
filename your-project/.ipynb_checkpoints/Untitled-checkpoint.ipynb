{
 "cells": [
  {
   "cell_type": "markdown",
   "metadata": {},
   "source": [
    "# Welcome to the Hangman game! \n",
    "\n",
    "### Animal Hangman 🐱🐭🐰🐒🐤🐋🐐\n",
    "### How it works\n",
    "\n",
    "- Once you enter your name, the game will give you a random animal word, like cat or sheep.\n",
    "- The random word will be displayed like this: cat ~~~\n",
    "- If you guessed the letter right, it will appear in the hidden word: cat ~a~\n",
    "- The letters you already used will be stored and visible as a list!\n",
    "\n",
    "### Rules\n",
    "- Your name should only consist of letters, not numbers \n",
    "- When guessing letters, entering numbers, space before the letter or more than one letter will not work!\n",
    "\n",
    "### Have fun! ✨"
   ]
  },
  {
   "cell_type": "code",
   "execution_count": 74,
   "metadata": {},
   "outputs": [
    {
     "name": "stdout",
     "output_type": "stream",
     "text": [
      "['wolf', 'dog', 'cat', 'cow', 'duck', 'rabbit', 'mouse', 'snake', 'sheep', 'puma', 'pony', 'zebra', 'squirrel', 'seal', 'tiger', 'snail', 'chicken', 'crocodile', 'turtle', 'bear', 'dolphin', 'elephant', 'giraffe', 'goat', 'lion', 'horse', 'hedgehog', 'hamster', 'otter', 'panda', 'racoon', 'llama', 'beaver', 'platypus', 'whale', 'fish', 'penguin', 'monkey', 'kangaroo', 'iguana', 'chinchilla', 'alpaca', 'bumblebee', 'butterfly', 'coyote', 'crow', 'flamingo', 'hippo', 'jellyfish', 'manatee']\n",
      "50\n"
     ]
    }
   ],
   "source": [
    "#Create a list with words\n",
    "    #Huge list of words containing some sort of external data that is extended or renewed regularly (webscraping of a webpage)\n",
    "\n",
    "guess_words = [\"wolf\", \"dog\", \"cat\", \"cow\", \"duck\", \"rabbit\", \"mouse\", \"snake\", \"sheep\", \"puma\", \"pony\", \"zebra\", \"squirrel\", \"seal\", \"tiger\", \"snail\", \"chicken\", \"crocodile\", \"turtle\", \"bear\", \"dolphin\", \"elephant\", \"giraffe\", \"goat\", \"lion\", \"horse\", \"hedgehog\", \"hamster\", \"otter\", \"panda\", \"racoon\", \"llama\", \"beaver\", \"platypus\", \"whale\", \"fish\", \"penguin\", \"monkey\", \"kangaroo\", \"iguana\", \"chinchilla\", \"alpaca\", \"bumblebee\", \"butterfly\", \"coyote\", \"crow\", \"flamingo\", \"hippo\", \"jellyfish\", \"manatee\",]\n",
    "\n",
    "print(guess_words)\n",
    "print(len(guess_words))"
   ]
  },
  {
   "cell_type": "code",
   "execution_count": 75,
   "metadata": {},
   "outputs": [],
   "source": [
    "#Define a function for getting the players name\n",
    "def player_name():\n",
    "    player = input(\"Please enter your name: \")\n",
    "    #print(f\"Welcome to Hangman, {Player}!\")\n",
    "    counter = 0\n",
    "    #What to do if the input is not letters of the abc\n",
    "    while player.isalpha() == False:\n",
    "        counter+=1\n",
    "        #The counter limits the loop to 3 times\n",
    "        if counter < 3:\n",
    "            player = input(\"Please use the ABC to enter your name!\")\n",
    "        else:\n",
    "            player = input(\"Ok, one more time...\")\n",
    "            \n",
    "        \n",
    "    print(f\"Welcome to Hangman, {player}!\")\n",
    "    return player\n",
    "   "
   ]
  },
  {
   "cell_type": "code",
   "execution_count": 76,
   "metadata": {},
   "outputs": [],
   "source": [
    "import random "
   ]
  },
  {
   "cell_type": "code",
   "execution_count": 77,
   "metadata": {},
   "outputs": [],
   "source": [
    "#Create a random word generator that picks a word from the word list that is to be guessed by the player\n",
    "    #Output will be the word to guess, will not be shown\n",
    "    #limit the number of possible turns to guess in relation to the lenght of the word\n",
    "         #like the word house has 5 letters, so the player gets 10 turns until the man gets hanged\n",
    "         #lenght of word times two = turns until man is hanged\n",
    "\n",
    "def random_animal(x):\n",
    "    #Variable game stores random item chosen from input x-list\n",
    "    game = random.choice(x) \n",
    "     \n",
    "    #Create a variable for the amount of ~ \n",
    "    word_lines = len(game)* '~'\n",
    "\n",
    "    #Amount of guesses/turns = len(game) * 2\n",
    "    turns = len(game)*2\n",
    "    return game, word_lines, turns\n",
    "    "
   ]
  },
  {
   "cell_type": "code",
   "execution_count": 78,
   "metadata": {},
   "outputs": [],
   "source": [
    "word, word_hidden, lives = random_animal(guess_words)"
   ]
  },
  {
   "cell_type": "code",
   "execution_count": 79,
   "metadata": {},
   "outputs": [],
   "source": [
    "#print(word)\n",
    "#print(word_hidden)\n",
    "#print(lives)"
   ]
  },
  {
   "cell_type": "code",
   "execution_count": 80,
   "metadata": {},
   "outputs": [],
   "source": [
    "#Create an input for the player to enter their letter of choice\n",
    "    #Eg: Player enters H and the random word is 'HOUSE'\n",
    "        #Check if the input is == the string random word, if yes, show all letters of string that meet condition\n",
    "        #(if not show 'you didnt guess right this time!')   \n",
    "#Function to check if the input of the player is part of the 'hidden' word\n",
    "\n",
    "def check_word(w, list_letters, lives):\n",
    "    guess = input(\"Please enter a letter of the ABC: \")  \n",
    "    guess_1 = guess.lower()\n",
    "    #As long as input is a letter in abc, not longer than 1(more than 1 letter input), already has been used run loop\n",
    "    while guess_1.isalpha() == False or len(guess_1) != 1 or guess_1 in list_letters:\n",
    "        #If statements to correct players input and be able to play the game\n",
    "        if guess_1.isalpha() == False:\n",
    "            guess_1 = input(\"Don't write numbers, try again with a letter: \")\n",
    "        elif guess_1 in list_letters:\n",
    "            guess_1 =  input(\"You already entered this letter, try a different one! \")\n",
    "        else:    \n",
    "            guess_1 =  input(\"Please enter only one letter at a time! \")\n",
    "            \n",
    "    #Empty string to be able to change display of hidden word according to input\n",
    "    word_hidden = \"\"\n",
    "    #Add input to already used letters list\n",
    "    list_letters.append(guess_1)\n",
    "    #Setting a boolean to take away one turn for wrong guess/input\n",
    "    live_substract = True\n",
    "    for letter in w:\n",
    "        #If the input letter is in list_letters, add the letter to the hidden word and do not take away one life\n",
    "        if letter in list_letters:\n",
    "            word_hidden+= letter \n",
    "            live_substract = False\n",
    "        #If the input letter is not in list_letters, add the letter to the hidden word and take away one life\n",
    "        else:\n",
    "            word_hidden+= '~'\n",
    "    \n",
    "    if live_substract == False:\n",
    "        lives = lives-1\n",
    "\n",
    "    \n",
    "    return list_letters, word_hidden, lives"
   ]
  },
  {
   "cell_type": "code",
   "execution_count": null,
   "metadata": {},
   "outputs": [],
   "source": [
    "#Define the main function of the game\n",
    "def main():\n",
    "    #Empty list to show player already used letters\n",
    "    letter_list=[] \n",
    "    #Player is the input of function player_name\n",
    "    player = player_name()\n",
    "    #Variables take on return of function random animal\n",
    "    word, word_hidden, lives = random_animal(guess_words) \n",
    "    \n",
    "    while lives > 0 and \"~\" in word_hidden and word_hidden :\n",
    "        letter_list, word_hidden, lives = check_word(word,letter_list,lives) #Variables take on return of function check word\n",
    "        \n",
    "        #Add print(Well done) in case word is guessed before turns = 0\n",
    "        if \"~\" not in word_hidden:\n",
    "            print('You won! Well done!')\n",
    "            print(f'The word you guessed: {word_hidden}')\n",
    "            break\n",
    "        \n",
    "        #First print only for visual purposes \n",
    "        print('')\n",
    "        print(f\"Letters used so far {letter_list}\")\n",
    "        print(word_hidden)\n",
    "        print(f\"You have {lives} turns left\")"
   ]
  },
  {
   "cell_type": "code",
   "execution_count": null,
   "metadata": {},
   "outputs": [],
   "source": [
    "#Execute the main function\n",
    "main()"
   ]
  },
  {
   "cell_type": "code",
   "execution_count": null,
   "metadata": {},
   "outputs": [],
   "source": [
    "#IDEAS FOR IMPROVEMENT\n",
    "\n",
    "#Add print(Well done) in case word is guessed before turns = 0\n",
    "\n",
    "#Player wins the game score = +50, looses -50 \n",
    "    #Dictionary with player name and score, updating score in main function\n",
    "    #variable for how many games you played eg. show Game 1: Player name , current score\n"
   ]
  }
 ],
 "metadata": {
  "kernelspec": {
   "display_name": "Python 3",
   "language": "python",
   "name": "python3"
  },
  "language_info": {
   "codemirror_mode": {
    "name": "ipython",
    "version": 3
   },
   "file_extension": ".py",
   "mimetype": "text/x-python",
   "name": "python",
   "nbconvert_exporter": "python",
   "pygments_lexer": "ipython3",
   "version": "3.8.5"
  }
 },
 "nbformat": 4,
 "nbformat_minor": 4
}
